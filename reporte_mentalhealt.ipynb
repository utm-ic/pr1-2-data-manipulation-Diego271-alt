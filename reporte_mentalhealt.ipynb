{
 "cells": [
  {
   "cell_type": "markdown",
   "metadata": {},
   "source": [
    "# Practica 1.1. Manipuación de datos\n",
    "\n",
    "## Objetivo\n",
    "\n",
    "En esta práctica, aprenderás a aplicar técnicas de análisis de datos utilizando Pandas para explorar un dataset relacionado con la salud mental. El objetivo es que pongas en práctica tus habilidades de manipulación, limpieza y análisis de datos para obtener conclusiones interesantes."
   ]
  },
  {
   "cell_type": "markdown",
   "metadata": {},
   "source": [
    "## Paso 1: Carga del Dataset"
   ]
  },
  {
   "cell_type": "code",
   "execution_count": 46,
   "metadata": {},
   "outputs": [],
   "source": [
    "import pandas as pd\n",
    "import numpy as np\n",
    "\n",
    "import matplotlib.pyplot as plt\n",
    "import seaborn as sns"
   ]
  },
  {
   "cell_type": "markdown",
   "metadata": {},
   "source": [
    "### Preguntas:\n",
    "\n",
    "1. ¿Cuántos registros y columnas tiene el dataset?\n",
    "2. ¿Qué tipo de datos predominan?"
   ]
  },
  {
   "cell_type": "code",
   "execution_count": 47,
   "metadata": {},
   "outputs": [
    {
     "name": "stdout",
     "output_type": "stream",
     "text": [
      "   Age  Gender Education_Level Employment_Status  Sleep_Hours  \\\n",
      "0   56    Male      Bachelor's        Unemployed          6.0   \n",
      "1   69  Female      Bachelor's           Retired          8.8   \n",
      "2   46  Female        Master's          Employed          5.3   \n",
      "3   32  Female     High School        Unemployed          8.8   \n",
      "4   60  Female      Bachelor's           Retired          7.2   \n",
      "\n",
      "   Physical_Activity_Hrs  Social_Support_Score  Anxiety_Score  \\\n",
      "0                    0.4                     3              4   \n",
      "1                    2.8                     6             18   \n",
      "2                    1.6                     5              5   \n",
      "3                    0.5                     4              6   \n",
      "4                    0.7                     2              7   \n",
      "\n",
      "   Depression_Score  Stress_Level  ...  Chronic_Illnesses  Medication_Use  \\\n",
      "0                 2             9  ...                  0             NaN   \n",
      "1                 7             6  ...                  0             NaN   \n",
      "2                13             8  ...                  0             NaN   \n",
      "3                 3             4  ...                  1             NaN   \n",
      "4                15             3  ...                  0             NaN   \n",
      "\n",
      "  Therapy  Meditation  Substance_Use Financial_Stress  Work_Stress  \\\n",
      "0       0           1            NaN                4            3   \n",
      "1       1           0            NaN                1            4   \n",
      "2       0           1            NaN                8            7   \n",
      "3       0           0            NaN                7            4   \n",
      "4       1           1       Frequent                8            9   \n",
      "\n",
      "   Self_Esteem_Score  Life_Satisfaction_Score  Loneliness_Score  \n",
      "0                  7                        5                 1  \n",
      "1                  7                        4                 6  \n",
      "2                  8                        1                 1  \n",
      "3                  8                        4                 4  \n",
      "4                  5                        7                 7  \n",
      "\n",
      "[5 rows x 21 columns]\n",
      "\n",
      "Número de registros: 1200\n",
      "Número de columnas: 21\n",
      "\n",
      "Tipos de datos:\n",
      " Age                                int64\n",
      "Gender                            object\n",
      "Education_Level                   object\n",
      "Employment_Status                 object\n",
      "Sleep_Hours                      float64\n",
      "Physical_Activity_Hrs            float64\n",
      "Social_Support_Score               int64\n",
      "Anxiety_Score                      int64\n",
      "Depression_Score                   int64\n",
      "Stress_Level                       int64\n",
      "Family_History_Mental_Illness      int64\n",
      "Chronic_Illnesses                  int64\n",
      "Medication_Use                    object\n",
      "Therapy                            int64\n",
      "Meditation                         int64\n",
      "Substance_Use                     object\n",
      "Financial_Stress                   int64\n",
      "Work_Stress                        int64\n",
      "Self_Esteem_Score                  int64\n",
      "Life_Satisfaction_Score            int64\n",
      "Loneliness_Score                   int64\n",
      "dtype: object\n"
     ]
    }
   ],
   "source": [
    "import pandas as pd\n",
    "\n",
    "\n",
    "df = pd.read_csv('./dataset/mental_health.csv')\n",
    "print(df.head())  # Muestra las primeras filas del DataFrame\n",
    "print(\"\\nNúmero de registros:\", df.shape[0])  # Número de filas (registros)\n",
    "print(\"Número de columnas:\", df.shape[1])   # Número de columnas\n",
    "print(\"\\nTipos de datos:\\n\", df.dtypes) # Muestra los tipos de datos de cada columna\n"
   ]
  },
  {
   "cell_type": "markdown",
   "metadata": {},
   "source": [
    "## Paso 2: Exploración Inicial"
   ]
  },
  {
   "cell_type": "markdown",
   "metadata": {},
   "source": [
    "\n",
    "1. ¿Existen columnas que podrían ser categóricas pero aparecen como tipo `object`?\n"
   ]
  },
  {
   "cell_type": "code",
   "execution_count": 48,
   "metadata": {},
   "outputs": [
    {
     "name": "stdout",
     "output_type": "stream",
     "text": [
      "Columnas de tipo 'object':\n",
      "Index(['Gender', 'Education_Level', 'Employment_Status', 'Medication_Use',\n",
      "       'Substance_Use'],\n",
      "      dtype='object')\n"
     ]
    }
   ],
   "source": [
    "columnas_object = df.select_dtypes(include=['object']).columns\n",
    "\n",
    "print(\"Columnas de tipo 'object':\")\n",
    "print(columnas_object)"
   ]
  },
  {
   "cell_type": "code",
   "execution_count": 49,
   "metadata": {},
   "outputs": [
    {
     "name": "stdout",
     "output_type": "stream",
     "text": [
      "- Gender: 4 valores únicos\n",
      "- Education_Level: 5 valores únicos\n",
      "- Employment_Status: 4 valores únicos\n",
      "- Medication_Use: 2 valores únicos\n",
      "- Substance_Use: 2 valores únicos\n"
     ]
    }
   ],
   "source": [
    "for col in df.select_dtypes(include=['object']).columns:\n",
    "    unique_values = df[col].nunique()\n",
    "    total_values = len(df[col])\n",
    "    \n",
    "    if unique_values / total_values < 0.3:  \n",
    "        print(f\"- {col}: {unique_values} valores únicos\")"
   ]
  },
  {
   "cell_type": "markdown",
   "metadata": {},
   "source": [
    "Aquellas columnas que contienen pocos valores únicos podría ser categoríca"
   ]
  },
  {
   "cell_type": "markdown",
   "metadata": {},
   "source": [
    "2. ¿Hay valores que parecen inconsistentes o fuera de rango?\n"
   ]
  },
  {
   "cell_type": "code",
   "execution_count": 50,
   "metadata": {},
   "outputs": [
    {
     "name": "stdout",
     "output_type": "stream",
     "text": [
      "- Sleep_Hours: 6 valores fuera de rango (fuera de [2.250000000000001, 10.649999999999999])\n",
      "- Physical_Activity_Hrs: 75 valores fuera de rango (fuera de [-2.5500000000000003, 5.8500000000000005])\n",
      "- Therapy: 252 valores fuera de rango (fuera de [0.0, 0.0])\n"
     ]
    }
   ],
   "source": [
    "for col in df.select_dtypes(include=[np.number]).columns:\n",
    "    min_val, max_val = df[col].min(), df[col].max()\n",
    "    q1, q3 = df[col].quantile(0.25), df[col].quantile(0.75)\n",
    "    iqr = q3 - q1  # Rango intercuartil\n",
    "    lower_bound, upper_bound = q1 - 1.5 * iqr, q3 + 1.5 * iqr\n",
    "\n",
    "    outliers = df[(df[col] < lower_bound) | (df[col] > upper_bound)][col]\n",
    "    \n",
    "    if not outliers.empty:\n",
    "        print(f\"- {col}: {len(outliers)} valores fuera de rango (fuera de [{lower_bound}, {upper_bound}])\")\n"
   ]
  },
  {
   "cell_type": "markdown",
   "metadata": {},
   "source": [
    "## Paso 3: Limpieza de Datos\n"
   ]
  },
  {
   "cell_type": "markdown",
   "metadata": {},
   "source": [
    "1. ¿Qué porcentaje del dataset contiene valores nulos?\n"
   ]
  },
  {
   "cell_type": "code",
   "execution_count": 51,
   "metadata": {},
   "outputs": [
    {
     "name": "stdout",
     "output_type": "stream",
     "text": [
      "Age                               0.00\n",
      "Gender                            0.00\n",
      "Education_Level                   0.00\n",
      "Employment_Status                 0.00\n",
      "Sleep_Hours                       0.00\n",
      "Physical_Activity_Hrs             0.00\n",
      "Social_Support_Score              0.00\n",
      "Anxiety_Score                     0.00\n",
      "Depression_Score                  0.00\n",
      "Stress_Level                      0.00\n",
      "Family_History_Mental_Illness     0.00\n",
      "Chronic_Illnesses                 0.00\n",
      "Medication_Use                   62.25\n",
      "Therapy                           0.00\n",
      "Meditation                        0.00\n",
      "Substance_Use                    69.50\n",
      "Financial_Stress                  0.00\n",
      "Work_Stress                       0.00\n",
      "Self_Esteem_Score                 0.00\n",
      "Life_Satisfaction_Score           0.00\n",
      "Loneliness_Score                  0.00\n",
      "dtype: float64\n"
     ]
    }
   ],
   "source": [
    "\n",
    "# Calcular porcentaje de valores nulos por columna\n",
    "porcentaje_nulos_por_columna = (df.isnull().sum() / len(df)) * 100\n",
    "\n",
    "print(porcentaje_nulos_por_columna)\n"
   ]
  },
  {
   "cell_type": "markdown",
   "metadata": {},
   "source": [
    "2. ¿Qué estrategia decidiste aplicar para tratar los valores nulos y por qué?\n"
   ]
  },
  {
   "cell_type": "code",
   "execution_count": 52,
   "metadata": {},
   "outputs": [
    {
     "name": "stderr",
     "output_type": "stream",
     "text": [
      "/tmp/ipykernel_29638/1665529794.py:1: FutureWarning: A value is trying to be set on a copy of a DataFrame or Series through chained assignment using an inplace method.\n",
      "The behavior will change in pandas 3.0. This inplace method will never work because the intermediate object on which we are setting values always behaves as a copy.\n",
      "\n",
      "For example, when doing 'df[col].method(value, inplace=True)', try using 'df.method({col: value}, inplace=True)' or df[col] = df[col].method(value) instead, to perform the operation inplace on the original object.\n",
      "\n",
      "\n",
      "  df['Medication_Use'].fillna('No reportado', inplace=True)\n",
      "/tmp/ipykernel_29638/1665529794.py:2: FutureWarning: A value is trying to be set on a copy of a DataFrame or Series through chained assignment using an inplace method.\n",
      "The behavior will change in pandas 3.0. This inplace method will never work because the intermediate object on which we are setting values always behaves as a copy.\n",
      "\n",
      "For example, when doing 'df[col].method(value, inplace=True)', try using 'df.method({col: value}, inplace=True)' or df[col] = df[col].method(value) instead, to perform the operation inplace on the original object.\n",
      "\n",
      "\n",
      "  df['Substance_Use'].fillna('No reportado', inplace=True)\n"
     ]
    }
   ],
   "source": [
    "df['Medication_Use'].fillna('No reportado', inplace=True)\n",
    "df['Substance_Use'].fillna('No reportado', inplace=True)"
   ]
  },
  {
   "cell_type": "code",
   "execution_count": 53,
   "metadata": {},
   "outputs": [
    {
     "name": "stdout",
     "output_type": "stream",
     "text": [
      "Age                              0\n",
      "Gender                           0\n",
      "Education_Level                  0\n",
      "Employment_Status                0\n",
      "Sleep_Hours                      0\n",
      "Physical_Activity_Hrs            0\n",
      "Social_Support_Score             0\n",
      "Anxiety_Score                    0\n",
      "Depression_Score                 0\n",
      "Stress_Level                     0\n",
      "Family_History_Mental_Illness    0\n",
      "Chronic_Illnesses                0\n",
      "Medication_Use                   0\n",
      "Therapy                          0\n",
      "Meditation                       0\n",
      "Substance_Use                    0\n",
      "Financial_Stress                 0\n",
      "Work_Stress                      0\n",
      "Self_Esteem_Score                0\n",
      "Life_Satisfaction_Score          0\n",
      "Loneliness_Score                 0\n",
      "dtype: int64\n"
     ]
    }
   ],
   "source": [
    "print(df.isnull().sum())"
   ]
  },
  {
   "cell_type": "markdown",
   "metadata": {},
   "source": [
    "En general no podemos decir que es información que podemos eliminar y aunque los valores de esas dos variables son similares en para este reporte decidí colocar o sustituir los valores por \"no reportado\" con el objetivo de no dañar la información de manera significativa "
   ]
  },
  {
   "cell_type": "markdown",
   "metadata": {},
   "source": [
    "## Paso 4: Análisis Estadístico\n"
   ]
  },
  {
   "cell_type": "code",
   "execution_count": 54,
   "metadata": {},
   "outputs": [
    {
     "name": "stdout",
     "output_type": "stream",
     "text": [
      "       Anxiety_Score  Depression_Score  Stress_Level\n",
      "count    1200.000000       1200.000000   1200.000000\n",
      "mean       10.470000         10.674167      5.000833\n",
      "std         5.911138          5.632889      2.538281\n",
      "min         1.000000          1.000000      1.000000\n",
      "25%         5.000000          6.000000      3.000000\n",
      "50%        10.500000         11.000000      5.000000\n",
      "75%        16.000000         15.000000      7.000000\n",
      "max        20.000000         20.000000      9.000000\n"
     ]
    }
   ],
   "source": [
    "descriptive_stats = df[['Anxiety_Score', 'Depression_Score', 'Stress_Level']].describe()\n",
    "print(descriptive_stats)"
   ]
  },
  {
   "cell_type": "code",
   "execution_count": 55,
   "metadata": {},
   "outputs": [
    {
     "name": "stdout",
     "output_type": "stream",
     "text": [
      "                      Media  Mediana  Desviación Estándar\n",
      "Anxiety_Score     10.470000     10.5             5.911138\n",
      "Depression_Score  10.674167     11.0             5.632889\n",
      "Stress_Level       5.000833      5.0             2.538281\n"
     ]
    }
   ],
   "source": [
    "stats = pd.DataFrame({\n",
    "    'Media': df[['Anxiety_Score', 'Depression_Score', 'Stress_Level']].mean(),\n",
    "    'Mediana': df[['Anxiety_Score', 'Depression_Score', 'Stress_Level']].median(),\n",
    "    'Desviación Estándar': df[['Anxiety_Score', 'Depression_Score', 'Stress_Level']].std()\n",
    "})\n",
    "print(stats)"
   ]
  },
  {
   "cell_type": "markdown",
   "metadata": {},
   "source": [
    "1. ¿Qué porcentaje del total presenta niveles altos de ansiedad?\n",
    "Anxiety_Score "
   ]
  },
  {
   "cell_type": "markdown",
   "metadata": {},
   "source": [
    "2. ¿Qué observas sobre la diferencia entre media y mediana en cada caso? ¿Qué te dice esto sobre la distribución?\n",
    "\n",
    "Anxiety_Score: La diferencia es mínima, lo que sugiere una distribución bastante simétrica.\n",
    "\n",
    "Depression_Score: La media es ligeramente menor que la mediana, lo que indica un ligero sesgo negativo (sesgo a la izquierda). Esto sugiere que hay algunos valores bajos que están \"jalando\" la media hacia abajo.\n",
    "\n",
    "Stress_Level: La media y la mediana son prácticamente iguales, lo que indica una distribución muy simétrica."
   ]
  },
  {
   "cell_type": "markdown",
   "metadata": {},
   "source": [
    "## Paso 5: Filtrado de Datos\n"
   ]
  },
  {
   "cell_type": "markdown",
   "metadata": {},
   "source": [
    "Primero, identifica a las personas que tienen un puntaje alto en ansiedad (puedes elegir un valor alto, como por encima de 80)."
   ]
  },
  {
   "cell_type": "code",
   "execution_count": 56,
   "metadata": {},
   "outputs": [],
   "source": [
    "umbral_ansiedad = 15 \n",
    "personas_ansiedad_alta = df[df['Anxiety_Score'] > umbral_ansiedad]"
   ]
  },
  {
   "cell_type": "code",
   "execution_count": 57,
   "metadata": {},
   "outputs": [
    {
     "name": "stdout",
     "output_type": "stream",
     "text": [
      "Número de personas con ansiedad alta: 328\n",
      "Porcentaje del total: 27.33%\n"
     ]
    }
   ],
   "source": [
    "print(f\"Número de personas con ansiedad alta: {len(personas_ansiedad_alta)}\")\n",
    "print(f\"Porcentaje del total: {len(personas_ansiedad_alta) / len(df) * 100:.2f}%\")\n"
   ]
  },
  {
   "cell_type": "markdown",
   "metadata": {},
   "source": [
    "1. ¿Qué porcentaje del total presenta niveles altos de ansiedad?\n"
   ]
  },
  {
   "cell_type": "markdown",
   "metadata": {},
   "source": [
    "Según los datos: 27.33% del total presenta niveles altos de ansiedad (328 personas de la muestra total).\n",
    "Esto significa que aproximadamente 1 de cada 4 personas en tu conjunto de datos muestra niveles elevados de ansiedad, lo cual es una proporción significativa."
   ]
  },
  {
   "cell_type": "markdown",
   "metadata": {},
   "source": [
    "clasifica a las personas según las horas de sueño que reportan (menos de 5 horas, entre 5 y 7 horas, y más de 7 horas) "
   ]
  },
  {
   "cell_type": "code",
   "execution_count": 58,
   "metadata": {},
   "outputs": [],
   "source": [
    "df['Categoria_Sueno'] = pd.cut(df['Sleep_Hours'], \n",
    "                               bins=[0, 5, 7, 24], \n",
    "                               labels=['Menos de 5 horas', 'Entre 5 y 7 horas', 'Más de 7 horas'])\n"
   ]
  },
  {
   "cell_type": "code",
   "execution_count": 59,
   "metadata": {},
   "outputs": [
    {
     "name": "stdout",
     "output_type": "stream",
     "text": [
      "\n",
      "Nivel de estrés por categoría de sueño:\n",
      "                       mean  median       std  count\n",
      "Categoria_Sueno                                     \n",
      "Menos de 5 horas   5.179245     5.0  2.519299    212\n",
      "Entre 5 y 7 horas  4.931338     5.0  2.551868    568\n",
      "Más de 7 horas     5.004762     5.0  2.530949    420\n"
     ]
    },
    {
     "name": "stderr",
     "output_type": "stream",
     "text": [
      "/tmp/ipykernel_29638/2781712804.py:1: FutureWarning: The default of observed=False is deprecated and will be changed to True in a future version of pandas. Pass observed=False to retain current behavior or observed=True to adopt the future default and silence this warning.\n",
      "  estres_por_categoria = df.groupby('Categoria_Sueno')['Stress_Level'].agg(['mean', 'median', 'std', 'count'])\n"
     ]
    }
   ],
   "source": [
    "estres_por_categoria = df.groupby('Categoria_Sueno')['Stress_Level'].agg(['mean', 'median', 'std', 'count'])\n",
    "print(\"\\nNivel de estrés por categoría de sueño:\")\n",
    "print(estres_por_categoria)"
   ]
  },
  {
   "cell_type": "code",
   "execution_count": 60,
   "metadata": {},
   "outputs": [
    {
     "data": {
      "image/png": "[encoded data removed]",
      "text/plain": [
       "<Figure size 1000x600 with 1 Axes>"
      ]
     },
     "metadata": {},
     "output_type": "display_data"
    }
   ],
   "source": [
    "plt.figure(figsize=(10, 6))\n",
    "sns.boxplot(x='Categoria_Sueno', y='Stress_Level', data=df)\n",
    "plt.title('Distribución del nivel de estrés según horas de sueño')\n",
    "plt.xlabel('Categoría de horas de sueño')\n",
    "plt.ylabel('Nivel de estrés')\n",
    "plt.xticks(rotation=45)\n",
    "plt.tight_layout()\n",
    "plt.show()"
   ]
  },
  {
   "cell_type": "markdown",
   "metadata": {},
   "source": [
    "2. ¿Existe una relación visible entre las horas de sueño y el nivel de estrés?\n"
   ]
  },
  {
   "cell_type": "markdown",
   "metadata": {},
   "source": [
    "No existe una relación fuerte o clara entre las horas de sueño y el nivel de estrés en estos datos.\n",
    "\n",
    "Podemos deducir eso ya que las medianas son idénticas para todas las categorías de sueño y las medias son muy similares, la desv est es muy parecida para todos los gripos y los boxplots nos muestran distribuciones muy similares \n",
    "\n",
    "\n",
    "Aunque hay una ligera tendencia a que las personas con menos de 5 horas de sueño reporten un nivel de estrés ligeramente mayor (media de 5.18 vs 4.93), esta diferencia es muy pequeña y probablemente no sea estadísticamente significativa."
   ]
  },
  {
   "cell_type": "markdown",
   "metadata": {},
   "source": [
    "## Paso 6: Ordenamiento\n"
   ]
  },
  {
   "cell_type": "code",
   "execution_count": 61,
   "metadata": {},
   "outputs": [],
   "source": [
    "# Ordenar por satisfacción de vida (descendente) y soledad (ascendente)\n",
    "personas_ordenadas = df.sort_values(by=['Life_Satisfaction_Score', 'Loneliness_Score'], \n",
    "                                   ascending=[False, True])"
   ]
  },
  {
   "cell_type": "markdown",
   "metadata": {},
   "source": [
    "1. ¿Qué características comunes encuentras en estas 10 personas?\n"
   ]
  },
  {
   "cell_type": "code",
   "execution_count": 62,
   "metadata": {},
   "outputs": [
    {
     "name": "stdout",
     "output_type": "stream",
     "text": [
      "             Age  Sleep_Hours  Physical_Activity_Hrs  Social_Support_Score  \\\n",
      "count  10.000000    10.000000              10.000000             10.000000   \n",
      "mean   42.000000     6.140000               1.760000              4.700000   \n",
      "std    11.155467     1.346766               1.548619              2.406011   \n",
      "min    25.000000     3.600000               0.200000              1.000000   \n",
      "25%    33.500000     5.425000               0.475000              3.250000   \n",
      "50%    43.500000     6.250000               1.600000              4.000000   \n",
      "75%    47.750000     7.125000               2.250000              5.750000   \n",
      "max    61.000000     8.000000               5.100000              9.000000   \n",
      "\n",
      "       Anxiety_Score  Depression_Score  Stress_Level  \\\n",
      "count       10.00000         10.000000     10.000000   \n",
      "mean        13.10000          9.700000      6.100000   \n",
      "std          5.42525          5.888784      2.378141   \n",
      "min          4.00000          4.000000      1.000000   \n",
      "25%          8.25000          5.250000      5.250000   \n",
      "50%         14.50000          8.000000      6.000000   \n",
      "75%         17.00000         13.500000      8.000000   \n",
      "max         20.00000         20.000000      9.000000   \n",
      "\n",
      "       Family_History_Mental_Illness  Chronic_Illnesses    Therapy  \\\n",
      "count                      10.000000          10.000000  10.000000   \n",
      "mean                        0.300000           0.100000   0.200000   \n",
      "std                         0.483046           0.316228   0.421637   \n",
      "min                         0.000000           0.000000   0.000000   \n",
      "25%                         0.000000           0.000000   0.000000   \n",
      "50%                         0.000000           0.000000   0.000000   \n",
      "75%                         0.750000           0.000000   0.000000   \n",
      "max                         1.000000           1.000000   1.000000   \n",
      "\n",
      "       Meditation  Financial_Stress  Work_Stress  Self_Esteem_Score  \\\n",
      "count   10.000000          10.00000    10.000000          10.000000   \n",
      "mean     0.300000           4.70000     5.300000           5.300000   \n",
      "std      0.483046           2.58414     1.828782           1.567021   \n",
      "min      0.000000           1.00000     2.000000           3.000000   \n",
      "25%      0.000000           3.00000     4.250000           4.000000   \n",
      "50%      0.000000           4.50000     5.000000           5.500000   \n",
      "75%      0.750000           6.75000     6.000000           6.000000   \n",
      "max      1.000000           8.00000     8.000000           8.000000   \n",
      "\n",
      "       Life_Satisfaction_Score  Loneliness_Score  \n",
      "count                     10.0              10.0  \n",
      "mean                       9.0               1.0  \n",
      "std                        0.0               0.0  \n",
      "min                        9.0               1.0  \n",
      "25%                        9.0               1.0  \n",
      "50%                        9.0               1.0  \n",
      "75%                        9.0               1.0  \n",
      "max                        9.0               1.0  \n"
     ]
    }
   ],
   "source": [
    "top_10 = personas_ordenadas.head(10)\n",
    "print(top_10.describe())"
   ]
  },
  {
   "cell_type": "code",
   "execution_count": 63,
   "metadata": {},
   "outputs": [
    {
     "name": "stdout",
     "output_type": "stream",
     "text": [
      "Age  Gender  Education_Level  Employment_Status  Sleep_Hours  Physical_Activity_Hrs  Social_Support_Score  Anxiety_Score  Depression_Score  Stress_Level  Family_History_Mental_Illness  Therapy  Meditation  Financial_Stress  Work_Stress  Self_Esteem_Score\n",
      "25   Female  Master's         Employed           6.9          3.4                    4                     15             5                 1             1                              0        0           3                 5            6                    1\n",
      "29   Male    Other            Unemployed         8.0          0.4                    3                     7              9                 8             1                              0        0           8                 5            5                    1\n",
      "31   Female  PhD              Employed           6.8          0.4                    8                     20             18                5             1                              0        0           1                 5            4                    1\n",
      "41   Female  Master's         Employed           5.4          0.2                    1                     18             9                 8             0                              0        1           2                 6            4                    1\n",
      "43   Female  Other            Student            5.5          5.1                    9                     12             6                 6             0                              1        0           6                 8            8                    1\n",
      "44   Male    Bachelor's       Employed           7.2          1.7                    3                     4              4                 8             0                              0        0           6                 6            7                    1\n",
      "     Other   PhD              Retired            7.4          2.4                    4                     7              7                 4             0                              1        0           3                 4            3                    1\n",
      "49   Female  High School      Retired            3.6          0.7                    6                     14             15                6             0                              0        0           3                 2            4                    1\n",
      "53   Male    Bachelor's       Employed           4.9          1.5                    5                     17             4                 6             0                              0        1           8                 4            6                    1\n",
      "61   Female  PhD              Unemployed         5.7          1.8                    4                     17             20                9             0                              0        1           7                 8            6                    1\n",
      "Name: count, dtype: int64\n"
     ]
    }
   ],
   "source": [
    "# Examinar valores específicos para estas 10 personas\n",
    "variables_interes = ['Age', 'Gender', 'Education_Level', 'Employment_Status', \n",
    "                     'Sleep_Hours', 'Physical_Activity_Hrs', 'Social_Support_Score',\n",
    "                     'Anxiety_Score', 'Depression_Score', 'Stress_Level',\n",
    "                     'Family_History_Mental_Illness', 'Therapy', 'Meditation',\n",
    "                     'Financial_Stress', 'Work_Stress', 'Self_Esteem_Score']\n",
    "\n",
    "print(top_10[variables_interes].value_counts())"
   ]
  },
  {
   "cell_type": "markdown",
   "metadata": {},
   "source": [
    "Género: 6 son mujeres, 3 son hombres, y 1 tiene otro género registrado.\n",
    "\n",
    "Nivel educativo: Alta presencia de educación avanzada - 3 tienen PhD, 2 tienen maestría, 2 tienen licenciatura.\n",
    "\n",
    "Empleo: 5 están empleados, 2 están retirados, 2 desempleados y 1 es estudiante.\n",
    "Historia familiar de enfermedad mental: Ninguno parece tener antecedentes familiares de enfermedad mental (todos los valores son 0 o 1, donde 1 parece ser el código para \"No\").\n",
    "\n",
    "Terapia y meditación: La mayoría no participa en terapia (8 de 10) ni meditación (7 de 10).\n",
    "\n",
    "Autopercepción: Tienen puntuaciones variadas de autoestima (entre 3 y 8).\n",
    "\n",
    "Apoyo social: Los puntajes varían considerablemente (entre 1 y 9).\n",
    "\n",
    "Actividad física: Mayormente niveles bajos a moderados (0.2 a 5.1 horas)"
   ]
  },
  {
   "cell_type": "markdown",
   "metadata": {},
   "source": [
    "Algo interesante es que, a pesar de tener alta satisfacción de vida y baja soledad:\n",
    "\n",
    "Algunos tienen puntajes relativamente altos de ansiedad (hasta 20)\n",
    "\n",
    "Algunos tienen puntajes altos de depresión (hasta 20)\n",
    "\n",
    "Varios reportan estrés financiero y laboral significativo"
   ]
  },
  {
   "cell_type": "markdown",
   "metadata": {},
   "source": [
    "2. ¿Qué hipótesis podrías plantear sobre el vínculo entre satisfacción y soledad?"
   ]
  },
  {
   "cell_type": "markdown",
   "metadata": {},
   "source": [
    "Hipótesis 1. Las personas con mayor nivel educativo pueden desarrollar mecanismos de afrontamiento que les permiten mantener alta satisfacción vital a pesar de experimentar ansiedad o depresión.\n",
    "\n",
    "\n",
    "Hipótesis 2 No es necesario un alto puntaje de apoyo social para tener baja soledad; la calidad de pocas relaciones puede ser más importante que la cantidad\n"
   ]
  },
  {
   "cell_type": "markdown",
   "metadata": {},
   "source": [
    "## Paso 7: Guardado de Resultados\n"
   ]
  },
  {
   "cell_type": "code",
   "execution_count": 64,
   "metadata": {},
   "outputs": [
    {
     "name": "stdout",
     "output_type": "stream",
     "text": [
      "Mediana del nivel de estrés: 5.0\n"
     ]
    }
   ],
   "source": [
    "mediana_estres = df['Stress_Level'].median()\n",
    "print(f\"Mediana del nivel de estrés: {mediana_estres}\")\n"
   ]
  },
  {
   "cell_type": "code",
   "execution_count": 65,
   "metadata": {},
   "outputs": [],
   "source": [
    "personas_filtradas = df[(df['Therapy'] == 1) & (df['Stress_Level'] < mediana_estres)]"
   ]
  },
  {
   "cell_type": "markdown",
   "metadata": {},
   "source": [
    "1. ¿Cuántas personas cumplen con ambas condiciones?\n"
   ]
  },
  {
   "cell_type": "code",
   "execution_count": 66,
   "metadata": {},
   "outputs": [
    {
     "name": "stdout",
     "output_type": "stream",
     "text": [
      "\n",
      "Cantidad de personas que reciben terapia y tienen bajo nivel de estrés: 108\n"
     ]
    }
   ],
   "source": [
    "cantidad_personas = len(personas_filtradas)\n",
    "print(f\"\\nCantidad de personas que reciben terapia y tienen bajo nivel de estrés: {cantidad_personas}\")\n"
   ]
  },
  {
   "cell_type": "code",
   "execution_count": 67,
   "metadata": {},
   "outputs": [
    {
     "name": "stdout",
     "output_type": "stream",
     "text": [
      "\n",
      "El archivo 'personas_terapia_bajo_estres.csv' ha sido guardado correctamente.\n"
     ]
    }
   ],
   "source": [
    "personas_filtradas.to_csv('personas_terapia_bajo_estres.csv', index=False)\n",
    "print(\"\\nEl archivo 'personas_terapia_bajo_estres.csv' ha sido guardado correctamente.\")\n"
   ]
  },
  {
   "cell_type": "code",
   "execution_count": 68,
   "metadata": {},
   "outputs": [
    {
     "name": "stdout",
     "output_type": "stream",
     "text": [
      "\n",
      "Nivel promedio de estrés en personas con terapia: 5.03\n",
      "Nivel promedio de estrés en personas sin terapia: 4.99\n"
     ]
    }
   ],
   "source": [
    "estres_con_terapia = df[df['Therapy'] == 1]['Stress_Level'].mean()\n",
    "estres_sin_terapia = df[df['Therapy'] == 0]['Stress_Level'].mean()\n",
    "\n",
    "print(f\"\\nNivel promedio de estrés en personas con terapia: {estres_con_terapia:.2f}\")\n",
    "print(f\"Nivel promedio de estrés en personas sin terapia: {estres_sin_terapia:.2f}\")"
   ]
  },
  {
   "cell_type": "markdown",
   "metadata": {},
   "source": [
    "2. ¿Qué conclusiones puedes hacer sobre la relación entre terapia y nivel de estrés en este conjunto?"
   ]
  },
  {
   "cell_type": "markdown",
   "metadata": {},
   "source": [
    "El hecho de que 108 personas estén en terapia y tengan bajo nivel de estrés podría indicar que la terapia está siendo efectiva para este subgrupo en particular."
   ]
  },
  {
   "cell_type": "markdown",
   "metadata": {},
   "source": [
    "## Paso 8: Visualización Opcional\n"
   ]
  },
  {
   "cell_type": "code",
   "execution_count": 75,
   "metadata": {},
   "outputs": [
    {
     "data": {
      "text/plain": [
       "<Figure size 1000x600 with 0 Axes>"
      ]
     },
     "execution_count": 75,
     "metadata": {},
     "output_type": "execute_result"
    },
    {
     "data": {
      "text/plain": [
       "<Figure size 1000x600 with 0 Axes>"
      ]
     },
     "metadata": {},
     "output_type": "display_data"
    }
   ],
   "source": [
    "# Configuración visual para gráficos más atractivos\n",
    "plt.style.use('seaborn-v0_8-whitegrid')\n",
    "sns.set_palette(\"pastel\")\n",
    "\n",
    "# Creamos una figura para nuestro gráfico\n",
    "plt.figure(figsize=(10, 6))"
   ]
  },
  {
   "cell_type": "code",
   "execution_count": 69,
   "metadata": {},
   "outputs": [],
   "source": [
    "autoestima_por_genero = df.groupby('Gender')['Self_Esteem_Score'].mean().reset_index()"
   ]
  },
  {
   "cell_type": "code",
   "execution_count": 70,
   "metadata": {},
   "outputs": [
    {
     "data": {
      "image/png": "[encoded data removed]",
      "text/plain": [
       "<Figure size 640x480 with 1 Axes>"
      ]
     },
     "metadata": {},
     "output_type": "display_data"
    }
   ],
   "source": [
    "ax = sns.barplot(x='Gender', y='Self_Esteem_Score', data=autoestima_por_genero, \n",
    "                 capsize=0.1, errorbar=('ci', 95))"
   ]
  },
  {
   "cell_type": "code",
   "execution_count": 78,
   "metadata": {},
   "outputs": [],
   "source": [
    "grupos = []\n",
    "for genero in df['Gender'].unique():\n",
    "    grupos.append(df[df['Gender'] == genero]['Self_Esteem_Score'])"
   ]
  },
  {
   "cell_type": "code",
   "execution_count": 79,
   "metadata": {},
   "outputs": [],
   "source": [
    "from scipy import stats\n",
    "f_stat, p_valor = stats.f_oneway(*grupos)\n",
    "alpha = 0.05\n",
    "significancia = \"Sí\" if p_valor < alpha else \"No\""
   ]
  },
  {
   "cell_type": "code",
   "execution_count": 84,
   "metadata": {},
   "outputs": [
    {
     "data": {
      "text/plain": [
       "<matplotlib.lines.Line2D at 0x79b70c6c3260>"
      ]
     },
     "execution_count": 84,
     "metadata": {},
     "output_type": "execute_result"
    },
    {
     "data": {
      "image/png": "[encoded data removed]",
      "text/plain": [
       "<Figure size 640x480 with 1 Axes>"
      ]
     },
     "metadata": {},
     "output_type": "display_data"
    }
   ],
   "source": [
    "\n",
    "# Añadir anotación estadística al gráfico\n",
    "plt.annotate(f'ANOVA: F={f_stat:.2f}, p={p_valor:.4f}\\n¿Diferencias significativas?: {significancia}',\n",
    "             xy=(0.5, 0.02), xycoords='figure fraction', ha='center', \n",
    "             bbox=dict(boxstyle=\"round,pad=0.5\", facecolor='lightgray', alpha=0.5))\n",
    "\n",
    "# Análisis adicional: correlación con otras variables\n",
    "# Seleccionamos variables numéricas que podrían estar relacionadas con la autoestima\n",
    "variables_relacionadas = ['Anxiety_Score', 'Depression_Score', 'Stress_Level', \n",
    "                          'Loneliness_Score', 'Life_Satisfaction_Score']\n",
    "\n",
    "# Calculamos correlaciones con la autoestima\n",
    "correlaciones = {}\n",
    "for var in variables_relacionadas:\n",
    "    correlaciones[var] = df['Self_Esteem_Score'].corr(df[var])\n",
    "\n",
    "correlacion_df = pd.DataFrame(list(correlaciones.items()), columns=['Variable', 'Correlación'])\n",
    "correlacion_df = correlacion_df.sort_values('Correlación')\n",
    "\n",
    "sns.barplot(x='Correlación', y='Variable', data=correlacion_df)\n",
    "plt.title('Correlación de Diversas Variables con la Autoestima', fontsize=14, pad=20)\n",
    "plt.axvline(x=0, color='gray', linestyle='--')"
   ]
  },
  {
   "cell_type": "markdown",
   "metadata": {},
   "source": [
    "1. ¿Hay diferencias notables entre los géneros en cuanto a autoestima?"
   ]
  },
  {
   "cell_type": "markdown",
   "metadata": {},
   "source": [
    "Sí, se observan diferencias notables entre los géneros en cuanto a autoestima:\n",
    "\n",
    "Las mujeres (Female) muestran la puntuación más alta de autoestima, con aproximadamente 5.2\n",
    "\n",
    "Los hombres (Male) tienen una puntuación ligeramente menor, alrededor de 5.0\n",
    "\n",
    "Las personas no binarias (Non-Binary) presentan una puntuación cercana a 4.6\n",
    "\n",
    "La categoría \"Other\" muestra la puntuación más baja, aproximadamente 3.4\n",
    "\n",
    "La diferencia más pronunciada se observa entre las mujeres y la categoría \"Other\", con casi 1.8 puntos de diferencia en la escala de autoestima. También hay una diferencia notable de aproximadamente 1.6 puntos entre las mujeres y las personas de la categoría \"Other\"."
   ]
  },
  {
   "cell_type": "markdown",
   "metadata": {},
   "source": [
    "2. ¿Qué factores del dataset podrían explicar estas diferencias?"
   ]
  },
  {
   "cell_type": "markdown",
   "metadata": {},
   "source": [
    "Según el gráfico de correlaciones:\n",
    "\n",
    "Correlaciones positivas (factores que se asocian con mayor autoestima):\n",
    "\n",
    "Soledad (Loneliness_Score): Muestra la correlación positiva más fuerte (aproximadamente +0.022)\n",
    "\n",
    "Estrés (Stress_Level): Tiene una correlación positiva moderada (aproximadamente +0.012)\n",
    "\n",
    "\n",
    "Correlaciones negativas (factores que se asocian con menor autoestima):\n",
    "\n",
    "Ansiedad (Anxiety_Score): Muestra una correlación negativa significativa (aproximadamente -0.04)\n",
    "\n",
    "Depresión (Depression_Score): También presenta una correlación negativa importante (aproximadamente -0.04)\n",
    "\n",
    "Satisfacción con la vida (Life_Satisfaction_Score): Tiene una correlación negativa más débil (aproximadamente -0.015)"
   ]
  },
  {
   "cell_type": "markdown",
   "metadata": {},
   "source": [
    "Los niveles más altos de soledad y estrés están asociados con mayor autoestima en este conjunto de datos (lo cual es contraintuitivo y podría merecer un análisis más profundo)\n",
    "\n",
    "La ansiedad y la depresión están asociadas con menor autoestima, lo cual es consistente con la literatura psicológica\n"
   ]
  }
 ],
 "metadata": {
  "kernelspec": {
   "display_name": "Python 3 (ipykernel)",
   "language": "python",
   "name": "python3"
  },
  "language_info": {
   "codemirror_mode": {
    "name": "ipython",
    "version": 3
   },
   "file_extension": ".py",
   "mimetype": "text/x-python",
   "name": "python",
   "nbconvert_exporter": "python",
   "pygments_lexer": "ipython3",
   "version": "3.12.1"
  }
 },
 "nbformat": 4,
 "nbformat_minor": 2
}
